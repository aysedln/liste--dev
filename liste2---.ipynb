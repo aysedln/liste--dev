{
 "cells": [
  {
   "cell_type": "code",
   "execution_count": 2,
   "id": "ab0130b1-541e-49aa-8408-29dca621c970",
   "metadata": {},
   "outputs": [
    {
     "name": "stdin",
     "output_type": "stream",
     "text": [
      "Meyve adları girin:  elma , armut, armut, elma, kiraz, muz, muz\n"
     ]
    },
    {
     "name": "stdout",
     "output_type": "stream",
     "text": [
      "' kiraz 'listede 1 kez geçiyor.\n",
      "' armut 'listede 2 kez geçiyor.\n",
      "' elma 'listede 2 kez geçiyor.\n",
      "' muz 'listede 2 kez geçiyor.\n"
     ]
    }
   ],
   "source": [
    "# soru1 listede tekrarlanan elemanları kaç kez tekrar ettiklerini bulan bir python programı yazın:\n",
    "veri = str(input(\"Meyve adları girin: \"))\n",
    "\n",
    "liste = [x.strip() for x in veri.split(\",\")]\n",
    "#set ile küme oluşturulur tekrar eden elemanları sadece bir kez yazar\n",
    "tek_elemanlar = set(liste)\n",
    "\n",
    "for i in tek_elemanlar:\n",
    "    print(\"'\", i, \"'listede\",  liste.count(i), \"kez geçiyor.\", )\n",
    "\n",
    "\n"
   ]
  },
  {
   "cell_type": "code",
   "execution_count": 7,
   "id": "9c57844a-3364-4e5f-a678-ee4b8858193b",
   "metadata": {},
   "outputs": [
    {
     "name": "stdin",
     "output_type": "stream",
     "text": [
      "sayılar girin:  3,4,5,6,7,8,9\n"
     ]
    },
    {
     "name": "stdout",
     "output_type": "stream",
     "text": [
      "Listede en büyük ikinci sayı:  8.0\n"
     ]
    }
   ],
   "source": [
    "#soru2\n",
    "sayilar = input(\"sayılar girin: \")\n",
    "liste = [float(x.strip()) for x in sayilar.split(\",\")]\n",
    "farkli_sayilar = list(set(liste)) \n",
    "en_buyuk = max(farkli_sayilar)\n",
    "farkli_sayilar.remove(en_buyuk)\n",
    "en_buyuk_ikinci = max(farkli_sayilar)\n",
    "print(\"Listede en büyük ikinci sayı: \", en_buyuk_ikinci)"
   ]
  },
  {
   "cell_type": "code",
   "execution_count": 16,
   "id": "240d7522-c8e4-42eb-8e36-456c07b4dfec",
   "metadata": {},
   "outputs": [
    {
     "name": "stdin",
     "output_type": "stream",
     "text": [
      "sayılar girin:  3,9,6,7,8,5,4,3\n"
     ]
    },
    {
     "name": "stdout",
     "output_type": "stream",
     "text": [
      "Listedeki en büyük ikinci sayı: 8.0\n"
     ]
    }
   ],
   "source": [
    "# soru2 farklı yöntem\n",
    "sayilar = input(\"sayılar girin: \")\n",
    "liste = [float(x.strip()) for x in sayilar.split(\",\")]\n",
    "\n",
    "farkli_sayilar = list(set(liste)) \n",
    "farkli_sayilar.sort(reverse=True) #reverse küçükten büyüğe olan sıraya tersine çevirdi.\n",
    "\n",
    "if len(farkli_sayilar) > 1:\n",
    "    print(\"Listedeki en büyük ikinci sayı:\", farkli_sayilar[1])\n",
    "else:\n",
    "    print(\"Listede ikinci sayı yok.\")"
   ]
  },
  {
   "cell_type": "code",
   "execution_count": 32,
   "id": "9fb75f3b-7ca6-4a29-ae3d-0e58ae0b48d1",
   "metadata": {},
   "outputs": [
    {
     "name": "stdin",
     "output_type": "stream",
     "text": [
      "sayılar girin:  3,8,6,5,4,9\n"
     ]
    },
    {
     "name": "stdout",
     "output_type": "stream",
     "text": [
      "Küçükten büyüğe sıralı liste:  [3.0, 4.0, 5.0, 6.0, 8.0, 9.0]\n",
      "Büyükten küçüğe sıralı liste:  [9.0, 8.0, 6.0, 5.0, 4.0, 3.0]\n"
     ]
    }
   ],
   "source": [
    "#soru3 sort sorted farkı sort orijinal listeyi değiştirir sorted başka liste oluşturur orijinali etkilemez.\n",
    "sayilar = input(\"sayılar girin: \")\n",
    "liste = [float(x.strip()) for x in sayilar.split(\",\")]\n",
    "sirali_liste = sorted(liste)\n",
    "buyukten_kucuge = sorted(liste, reverse=True)\n",
    "print(\"Küçükten büyüğe sıralı liste: \", sirali_liste)\n",
    "print(\"Büyükten küçüğe sıralı liste: \", buyukten_kucuge)"
   ]
  },
  {
   "cell_type": "code",
   "execution_count": 41,
   "id": "f937632e-5476-4e6a-8579-293e033dae01",
   "metadata": {},
   "outputs": [
    {
     "name": "stdin",
     "output_type": "stream",
     "text": [
      "Sayılar girin:  3,6,54,8,6\n"
     ]
    },
    {
     "name": "stdout",
     "output_type": "stream",
     "text": [
      "[6.0, 12.0, 108.0, 16.0, 12.0]\n"
     ]
    }
   ],
   "source": [
    "#soru4\n",
    "sayilar = input(\"Sayılar girin: \")\n",
    "liste = [float(x.strip()) for x in sayilar.split(\",\")]\n",
    "\n",
    "yeni_liste = [sayi*2 for sayi in liste]\n",
    "print(yeni_liste)"
   ]
  },
  {
   "cell_type": "code",
   "execution_count": 46,
   "id": "ef7d804e-5a1c-47fd-b0e0-f04f9baea8a5",
   "metadata": {},
   "outputs": [
    {
     "name": "stdin",
     "output_type": "stream",
     "text": [
      "sayılar girin:  3,7,5,6,5\n"
     ]
    },
    {
     "name": "stdout",
     "output_type": "stream",
     "text": [
      "[7.0, 6.0, 5.0, 5.0, 3.0]\n"
     ]
    }
   ],
   "source": [
    "#soru5 random möödülünü kullanabilmek için import etmek gerek.\n",
    "import random\n",
    "sayilar = input(\"sayılar girin: \")\n",
    "liste = [float(x.strip()) for x in sayilar.split(\",\")]\n",
    "random.shuffle(liste)\n",
    "print(liste)"
   ]
  },
  {
   "cell_type": "code",
   "execution_count": null,
   "id": "4972d12f-78a4-408c-8be6-e53cc23cdf9e",
   "metadata": {},
   "outputs": [],
   "source": []
  }
 ],
 "metadata": {
  "kernelspec": {
   "display_name": "Python 3 (ipykernel)",
   "language": "python",
   "name": "python3"
  },
  "language_info": {
   "codemirror_mode": {
    "name": "ipython",
    "version": 3
   },
   "file_extension": ".py",
   "mimetype": "text/x-python",
   "name": "python",
   "nbconvert_exporter": "python",
   "pygments_lexer": "ipython3",
   "version": "3.12.7"
  }
 },
 "nbformat": 4,
 "nbformat_minor": 5
}
